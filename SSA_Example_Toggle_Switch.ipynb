{
  "nbformat": 4,
  "nbformat_minor": 0,
  "metadata": {
    "colab": {
      "name": "SSA Example - Toggle Switch.ipynb",
      "provenance": [],
      "authorship_tag": "ABX9TyO/7RD26tYsPYrlmM2xVQYz",
      "include_colab_link": true
    },
    "kernelspec": {
      "name": "python3",
      "display_name": "Python 3"
    },
    "language_info": {
      "name": "python"
    }
  },
  "cells": [
    {
      "cell_type": "markdown",
      "metadata": {
        "id": "view-in-github",
        "colab_type": "text"
      },
      "source": [
        "<a href=\"https://colab.research.google.com/github/meghaphone/SSA-toggle-switch/blob/main/SSA_Example_Toggle_Switch.ipynb\" target=\"_parent\"><img src=\"https://colab.research.google.com/assets/colab-badge.svg\" alt=\"Open In Colab\"/></a>"
      ]
    },
    {
      "cell_type": "code",
      "metadata": {
        "colab": {
          "base_uri": "https://localhost:8080/"
        },
        "id": "ECWvmzuO_du3",
        "outputId": "dcc1d588-28bd-4d1c-ffc1-90ee1ce612a6"
      },
      "source": [
        "!pip install numpy\n",
        "!pip install matplotlib\n",
        "!pip install random"
      ],
      "execution_count": null,
      "outputs": [
        {
          "output_type": "stream",
          "text": [
            "Requirement already satisfied: numpy in /usr/local/lib/python3.7/dist-packages (1.19.5)\n",
            "Requirement already satisfied: matplotlib in /usr/local/lib/python3.7/dist-packages (3.2.2)\n",
            "Requirement already satisfied: python-dateutil>=2.1 in /usr/local/lib/python3.7/dist-packages (from matplotlib) (2.8.1)\n",
            "Requirement already satisfied: pyparsing!=2.0.4,!=2.1.2,!=2.1.6,>=2.0.1 in /usr/local/lib/python3.7/dist-packages (from matplotlib) (2.4.7)\n",
            "Requirement already satisfied: numpy>=1.11 in /usr/local/lib/python3.7/dist-packages (from matplotlib) (1.19.5)\n",
            "Requirement already satisfied: cycler>=0.10 in /usr/local/lib/python3.7/dist-packages (from matplotlib) (0.10.0)\n",
            "Requirement already satisfied: kiwisolver>=1.0.1 in /usr/local/lib/python3.7/dist-packages (from matplotlib) (1.3.1)\n",
            "Requirement already satisfied: six>=1.5 in /usr/local/lib/python3.7/dist-packages (from python-dateutil>=2.1->matplotlib) (1.15.0)\n",
            "\u001b[31mERROR: Could not find a version that satisfies the requirement random (from versions: none)\u001b[0m\n",
            "\u001b[31mERROR: No matching distribution found for random\u001b[0m\n"
          ],
          "name": "stdout"
        }
      ]
    },
    {
      "cell_type": "code",
      "metadata": {
        "id": "X218WvX-_0EA"
      },
      "source": [
        "import numpy as np\n",
        "import matplotlib\n",
        "import matplotlib.pyplot as plt\n",
        "import random"
      ],
      "execution_count": null,
      "outputs": []
    },
    {
      "cell_type": "markdown",
      "metadata": {
        "id": "frqltJiDvX4P"
      },
      "source": [
        "# Genetic Toggle Switch Model\n",
        "\n",
        "$G_1, G_2$: 2 genes \\\\\n",
        "$P_1, P_2$: 2 types of protein\n",
        "\n",
        "- $G_1$ produces $P_1$, $G_2$ produces $P_2$\n",
        "- Each gene represses the other gene's expression / protein production\n",
        "> *Each protein can bind particular DNA sites upstream of the gene which codes for the other protein, thereby repressing its transcription.*\n",
        "\n"
      ]
    },
    {
      "cell_type": "markdown",
      "metadata": {
        "id": "4zHrxpBbtnxa"
      },
      "source": [
        "# Stochastic model\n",
        "\n",
        "$X_1(t), X_2(t)$: number of proteins of type 1 & type 2 at time $t$\n",
        "### 4 reactions with propensities\n",
        "\n",
        "\\begin{align}\n",
        "\\text{production } P_1 \\quad &\\mathcal{R}_1: \\emptyset \\to P_1 &\\alpha_1(\\mathbf{x}) &= \\frac{a_1}{1 + (x_2/K_2)^{n_1}} \\\\\n",
        "\\text{degradation } P_1 \\quad &\\mathcal{R}_2: P_1 \\to \\emptyset &\\alpha_2(\\mathbf{x}) &= \\gamma_1 x_1 \\\\\n",
        "\\text{production } P_2 \\quad &\\mathcal{R}_3: \\emptyset \\to P_2 &\\alpha_3(\\mathbf{x}) &= \\frac{a_2}{1 + (x_1/K_1)^{n_2}} \\\\\n",
        "\\text{degradation } P_2 \\quad &\\mathcal{R}_4: P_2 \\to \\emptyset &\\alpha_4(\\mathbf{x}) &= \\gamma_2 x_2 \\\\\n",
        "\\end{align}\n",
        "\n",
        "\n",
        "### Representation & Parameters\n",
        "$\\mathbf{x} = (x_1, x_2)^T$ \\\\\n",
        "$x_1, x_2$: number of proteins of type $P_1$ & $P_2$\n",
        "\n",
        "**State-change vectors:** \\\\\n",
        "\n",
        "$\\vec{\\nu_1} = (1, 0)^T$ \n",
        "$\\vec{\\nu_2} = (-1, 0)^T$ \n",
        "$\\vec{\\nu_3} = (0, 1)^T$ \n",
        "$\\vec{\\nu_4} = (0, -1)^T$\n",
        "\n",
        "**Parameter values** \\\\\n",
        "$a_1 = 155, a_2 = 30, n_1 = 3, n_2 = 1, K_1 = K_2 = 1, \\gamma_1 = \\gamma_2 = 1$\n"
      ]
    },
    {
      "cell_type": "markdown",
      "metadata": {
        "id": "1cZ1TEme_82V"
      },
      "source": [
        "### Events & times \n",
        "\n",
        "- Keep track of events & times in arrays\n",
        "- Initialize values for $t_0$, $X_1(t_0)$, $X_2(t_0)$\n",
        "\n",
        "\n",
        "Each time an event happens,\n",
        "- update time array: append the updated timepoint of the new event into the time array, t\n",
        "- update protein number arrays: append the updated values for both of the protein variable arrays, P1 & P2"
      ]
    },
    {
      "cell_type": "code",
      "metadata": {
        "id": "zYRhUc51_9Ig"
      },
      "source": [
        "# Step 1.  Initialize time t = t_0, initial state choose time horizon\n",
        "t = [0]\n",
        "P1 = [155]\n",
        "P2 = [30]\n",
        "\n",
        "t_end = 1000 # end time of simulation"
      ],
      "execution_count": null,
      "outputs": []
    },
    {
      "cell_type": "markdown",
      "metadata": {
        "id": "W5yh1Ll7ABOk"
      },
      "source": [
        "### Set parameters"
      ]
    },
    {
      "cell_type": "markdown",
      "metadata": {
        "id": "qCb6lPnMABVu"
      },
      "source": [
        "#### Protein production"
      ]
    },
    {
      "cell_type": "code",
      "metadata": {
        "id": "Hks73iVr__-U"
      },
      "source": [
        "a_1 = 155\n",
        "K_1 = 1\n",
        "n_1 = 3\n",
        "\n",
        "a_2 = 30\n",
        "K_2 = 1\n",
        "n_2 = 1"
      ],
      "execution_count": null,
      "outputs": []
    },
    {
      "cell_type": "markdown",
      "metadata": {
        "id": "i9C1VJDMAFxH"
      },
      "source": [
        "#### Protein degradation"
      ]
    },
    {
      "cell_type": "code",
      "metadata": {
        "id": "fsVz6dmKAEqK"
      },
      "source": [
        "gamma_1 = 1\n",
        "gamma_2 = 1"
      ],
      "execution_count": null,
      "outputs": []
    },
    {
      "cell_type": "markdown",
      "metadata": {
        "id": "kXrpCMJ9AJtW"
      },
      "source": [
        "### SSA / Gillespie algorithm simulation"
      ]
    },
    {
      "cell_type": "code",
      "metadata": {
        "id": "moC4SuGuAJML"
      },
      "source": [
        "while t[-1] < t_end:\n",
        "    current_P1 = P1[-1]\n",
        "    current_P2 = P2[-1]\n",
        "    \n",
        "    # STEP 2: Calculate alpha_k(x) for all k & their sum lambda(x)\n",
        "    rates = [a_1 / (1 + (current_P2 / K_2)**n_1), \\\n",
        "             gamma_1 * current_P1, \\\n",
        "             a_2 / (1 + (current_P1 / K_1)**n_2), \\\n",
        "             gamma_2 * current_P2]\n",
        "\n",
        "    rate_sum = sum(rates)\n",
        "\n",
        "    # STEP 3: Generate & set tau & k*\n",
        "    tau = np.random.exponential(scale=1/rate_sum) # scale represents the mean of the distribution\n",
        "    t.append(t[-1] + tau)\n",
        "    \n",
        "    rand = random.uniform(0,1)\n",
        "\n",
        "    # STEP 4: execute next reaction by replacing \n",
        "    \n",
        "    # P1 production event\n",
        "    if rand * rate_sum <= rates[0]:\n",
        "            P1.append(P1[-1] + 1)\n",
        "            P2.append(P2[-1])\n",
        "\n",
        "    # P1 degradation event\n",
        "    elif rand * rate_sum > rates[0] and rand * rate_sum <= sum(rates[:2]):\n",
        "            P1.append(P1[-1] - 1)\n",
        "            P2.append(P2[-1])\n",
        "\n",
        "    # P2 production event\n",
        "    elif rand * rate_sum > sum(rates[:2]) and rand * rate_sum <= sum(rates[:3]):\n",
        "            P1.append(P1[-1])\n",
        "            P2.append(P2[-1] + 1)\n",
        "\n",
        "    # P2 degradation event\n",
        "    elif rand * rate_sum > sum(rates[:3]) and rand * rate_sum <= sum(rates[:4]):\n",
        "            P1.append(P1[-1])\n",
        "            P2.append(P2[-1] - 1)"
      ],
      "execution_count": null,
      "outputs": []
    },
    {
      "cell_type": "code",
      "metadata": {
        "id": "h0XaZ3O3AURS",
        "colab": {
          "base_uri": "https://localhost:8080/",
          "height": 279
        },
        "outputId": "53c044fb-d1d1-4159-f0c3-753432dd122f"
      },
      "source": [
        "plt.plot(t , P1, color=\"m\",label=\"protein1\")\n",
        "plt.plot(t , P2, color=\"k\",label=\"protein2\")\n",
        "plt.ylabel('number of proteins')\n",
        "plt.xlabel('time')\n",
        "plt.legend()\n",
        "plt.show()"
      ],
      "execution_count": null,
      "outputs": [
        {
          "output_type": "display_data",
          "data": {
            "image/png": "[encoded data removed]",
            "text/plain": [
              "<Figure size 432x288 with 1 Axes>"
            ]
          },
          "metadata": {
            "tags": [],
            "needs_background": "light"
          }
        }
      ]
    },
    {
      "cell_type": "code",
      "metadata": {
        "colab": {
          "base_uri": "https://localhost:8080/",
          "height": 265
        },
        "id": "JkGmUbiNAL5e",
        "outputId": "2baa2343-68de-4aa4-c9d2-52f51fbb40ff"
      },
      "source": [
        "f, (ax1, ax2) = plt.subplots(2, sharex=True, sharey=False)\n",
        "line1, = ax1.plot(t , P1, color=\"m\",label=\"protein1\")\n",
        "line2, = ax2.plot(t , P2, color=\"k\",label=\"protein2\")\n",
        "ax1.set_ylabel('number of proteins')\n",
        "ax1.set_xlabel('time')\n",
        "ax1.legend(handles=[line1,line2])\n",
        "plt.show()"
      ],
      "execution_count": null,
      "outputs": [
        {
          "output_type": "display_data",
          "data": {
            "image/png": "[encoded data removed]",
            "text/plain": [
              "<Figure size 432x288 with 2 Axes>"
            ]
          },
          "metadata": {
            "tags": [],
            "needs_background": "light"
          }
        }
      ]
    },
    {
      "cell_type": "code",
      "metadata": {
        "id": "bwvO9J1YyyyN"
      },
      "source": [
        ""
      ],
      "execution_count": null,
      "outputs": []
    }
  ]
}